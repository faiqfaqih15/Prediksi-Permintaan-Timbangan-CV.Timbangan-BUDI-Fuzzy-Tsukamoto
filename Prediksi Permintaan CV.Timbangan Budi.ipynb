{
  "nbformat": 4,
  "nbformat_minor": 0,
  "metadata": {
    "colab": {
      "provenance": []
    },
    "kernelspec": {
      "name": "python3",
      "display_name": "Python 3"
    },
    "language_info": {
      "name": "python"
    }
  },
  "cells": [
    {
      "cell_type": "markdown",
      "source": [
        "### **Tutorial cara memakai coding fuzzy ini berada di PPT**"
      ],
      "metadata": {
        "id": "uCQfbgeUik5U"
      }
    },
    {
      "cell_type": "code",
      "execution_count": null,
      "metadata": {
        "id": "PdHpWkOXVyUw"
      },
      "outputs": [],
      "source": [
        "def turun(b,a,x):\n",
        "    if(x<=a):\n",
        "        nilai = 1\n",
        "    elif(x>a and x<b):\n",
        "        nilai = (b-x)/(b-a)\n",
        "    elif(x>=b):\n",
        "        nilai = 0\n",
        "\n",
        "    return nilai"
      ]
    },
    {
      "cell_type": "code",
      "source": [
        "def naik(b,a,x):\n",
        "    if(x<=a):\n",
        "        nilai = 0\n",
        "    elif(x>a and x<b):\n",
        "        nilai = (x-a)/(b-a)\n",
        "    elif(x>=b):\n",
        "        nilai = 1\n",
        "\n",
        "    return nilai"
      ],
      "metadata": {
        "id": "abSQlt85WX9u"
      },
      "execution_count": null,
      "outputs": []
    },
    {
      "cell_type": "code",
      "source": [
        "def agregasi_turun(b,a,alfa):\n",
        "    nilai = b - (alfa*(b-a))\n",
        "    return nilai"
      ],
      "metadata": {
        "id": "78GFDZaWWaMz"
      },
      "execution_count": null,
      "outputs": []
    },
    {
      "cell_type": "code",
      "source": [
        "def agregasi_naik(b,a,alfa):\n",
        "    nilai = alfa*(b-a) + a\n",
        "    return nilai"
      ],
      "metadata": {
        "id": "AYWMQqFCWjhy"
      },
      "execution_count": null,
      "outputs": []
    },
    {
      "cell_type": "code",
      "source": [
        "var = int(input(\"Jumlah variabel: \"))\n",
        "\n",
        "nama_var = []\n",
        "for i in range(var):\n",
        "    nama = input(\"Sebutkan nama variabel: \")\n",
        "    nama_var.append(nama)"
      ],
      "metadata": {
        "colab": {
          "base_uri": "https://localhost:8080/"
        },
        "id": "wCkXvGPuWmhm",
        "outputId": "0c333e01-b7e8-4cd7-ea09-1f7a5e2a79f5"
      },
      "execution_count": null,
      "outputs": [
        {
          "name": "stdout",
          "output_type": "stream",
          "text": [
            "Jumlah variabel: 3\n",
            "Sebutkan nama variabel: Permintaan\n",
            "Sebutkan nama variabel: Persediaan\n",
            "Sebutkan nama variabel: Produksi\n"
          ]
        }
      ]
    },
    {
      "cell_type": "code",
      "source": [
        "variabel = dict()\n",
        "for i in nama_var:\n",
        "    print(i)\n",
        "    up = int(input(\"banyak : \"))\n",
        "    down = int(input(\"sedikit : \"))\n",
        "    variabel.update({i+\"_banyak\":up})\n",
        "    variabel.update({i+\"_sedikit\":down})\n",
        "\n",
        "print(variabel)"
      ],
      "metadata": {
        "colab": {
          "base_uri": "https://localhost:8080/"
        },
        "id": "yiYQyMTxWnvm",
        "outputId": "652453f4-ae35-48f2-bc9c-55746b794fdf"
      },
      "execution_count": null,
      "outputs": [
        {
          "output_type": "stream",
          "name": "stdout",
          "text": [
            "Permintaan\n",
            "banyak : 60\n",
            "sedikit : 5\n",
            "Persediaan\n",
            "banyak : 10\n",
            "sedikit : 1\n",
            "Produksi\n",
            "banyak : 25\n",
            "sedikit : 1\n",
            "{'Permintaan_banyak': 60, 'Permintaan_sedikit': 5, 'Persediaan_banyak': 10, 'Persediaan_sedikit': 1, 'Produksi_banyak': 25, 'Produksi_sedikit': 1}\n"
          ]
        }
      ]
    },
    {
      "cell_type": "code",
      "source": [
        "soal = dict()\n",
        "\n",
        "jml = int(input(\"Jumlah variabel yang diketahui : \"))\n",
        "\n",
        "for i in range(jml):\n",
        "    ver = input(\"Nama variabel : \")\n",
        "    val = int(input(\"Nilai : \"))\n",
        "    soal.update({ver:val})\n",
        "\n",
        "print(soal)\n",
        "\n",
        "dit = input(\"Variabel yang ditanyakan : \")"
      ],
      "metadata": {
        "id": "lxuF1jxXWwkJ",
        "colab": {
          "base_uri": "https://localhost:8080/"
        },
        "outputId": "c8eefde8-71a1-4d2f-8642-ddfb2dbced68"
      },
      "execution_count": null,
      "outputs": [
        {
          "name": "stdout",
          "output_type": "stream",
          "text": [
            "Jumlah variabel yang diketahui : 2\n",
            "Nama variabel : Permintaan\n",
            "Nilai : 38\n",
            "Nama variabel : Persediaan\n",
            "Nilai : 6\n",
            "{'Permintaan': 38, 'Persediaan': 6}\n",
            "Variabel yang ditanyakan : Produksi\n"
          ]
        }
      ]
    },
    {
      "cell_type": "code",
      "source": [
        "nk = dict()\n",
        "for i in soal:\n",
        "    up = naik(variabel[i+\"_banyak\"],variabel[i+\"_sedikit\"],soal[i])\n",
        "    down = turun(variabel[i+\"_banyak\"],variabel[i+\"_sedikit\"],soal[i])\n",
        "    nk.update({i+\"_banyak\":up})\n",
        "    nk.update({i+\"_sedikit\":down})\n",
        "\n",
        "print(nk)"
      ],
      "metadata": {
        "colab": {
          "base_uri": "https://localhost:8080/"
        },
        "id": "3zT3XjDBWyqn",
        "outputId": "a36514d5-2eb2-4dbd-f454-bdb537d2014e"
      },
      "execution_count": null,
      "outputs": [
        {
          "output_type": "stream",
          "name": "stdout",
          "text": [
            "{'Permintaan_banyak': 0.6, 'Permintaan_sedikit': 0.4, 'Persediaan_banyak': 0.5555555555555556, 'Persediaan_sedikit': 0.4444444444444444}\n"
          ]
        }
      ]
    },
    {
      "cell_type": "code",
      "source": [
        "#[R1]   IF permintaan TURUN AND Persediaan BANYAK, THEN Produksi Barang BERKURANG;\n",
        "#[R2]   IF permintaan TURUN AND Persediaan SEDIKIT, THEN Produksi Barang BERKURANG;\n",
        "#[R3]   IF permintaan NAIK AND Persediaan BANYAK, THEN Produksi Barang BERTAMBAH;\n",
        "#[R4]   IF permintaan NAIK AND Persediaan SEDIKIT, THEN Produksi Barang BERTAMBAH;"
      ],
      "metadata": {
        "id": "uEmUBCbOW1xt"
      },
      "execution_count": null,
      "outputs": []
    },
    {
      "cell_type": "code",
      "source": [
        "#AGREGASI\n",
        "alfa = []\n",
        "z = []\n",
        "\n",
        "r = int(input(\"Masukkan jumlah peraturan : \"))\n",
        "\n",
        "for i in range(r):\n",
        "    kondisi1 = input(\"Kondisi 1(naik/turun): \")\n",
        "    kondisi2 = input(\"Kondisi 2(naik/turun): \")\n",
        "    kesimpulan = input(\"Kesimpulan(naik/turun): \")\n",
        "    #Fire Strength INTERSEKSI (AND)\n",
        "    a = min(nk[kondisi1],nk[kondisi2])\n",
        "    alfa.append(a)\n",
        "    if(kesimpulan == \"turun\"):\n",
        "        zz = agregasi_turun(variabel[dit+\"_banyak\"],variabel[dit+\"_sedikit\"],a)\n",
        "    elif(kesimpulan == \"naik\"):\n",
        "        zz = agregasi_naik(variabel[dit+\"_banyak\"],variabel[dit+\"_sedikit\"],a)\n",
        "    z.append(zz)"
      ],
      "metadata": {
        "colab": {
          "base_uri": "https://localhost:8080/"
        },
        "id": "uPCzCv2DXAkw",
        "outputId": "1746b799-480a-4120-d61d-57c7d7de3577"
      },
      "execution_count": null,
      "outputs": [
        {
          "name": "stdout",
          "output_type": "stream",
          "text": [
            "Masukkan jumlah peraturan : 4\n",
            "Kondisi 1(naik/turun): Permintaan_sedikit\n",
            "Kondisi 2(naik/turun): Persediaan_sedikit\n",
            "Kesimpulan(naik/turun): turun\n",
            "Kondisi 1(naik/turun): Permintaan_sedikit\n",
            "Kondisi 2(naik/turun): Persediaan_banyak\n",
            "Kesimpulan(naik/turun): turun\n",
            "Kondisi 1(naik/turun): Permintaan_banyak\n",
            "Kondisi 2(naik/turun): Persediaan_banyak\n",
            "Kesimpulan(naik/turun): naik\n",
            "Kondisi 1(naik/turun): Permintaan_banyak\n",
            "Kondisi 2(naik/turun): Persediaan_sedikit\n",
            "Kesimpulan(naik/turun): naik\n"
          ]
        }
      ]
    },
    {
      "cell_type": "code",
      "source": [
        "#DEFUZIFIKASI\n",
        "df = 0\n",
        "\n",
        "for i in range(len(alfa)):\n",
        "    df += alfa[i]*z[i]\n",
        "\n",
        "defuz = int(df/sum(alfa))\n",
        "\n",
        "print(\"Jadi, nilai \",dit,\" adalah \",defuz)"
      ],
      "metadata": {
        "colab": {
          "base_uri": "https://localhost:8080/"
        },
        "id": "d-n35fumXDbx",
        "outputId": "c419d151-fb32-4938-e92c-447177272991"
      },
      "execution_count": null,
      "outputs": [
        {
          "output_type": "stream",
          "name": "stdout",
          "text": [
            "Jadi, nilai  Produksi  adalah  14\n"
          ]
        }
      ]
    }
  ]
}